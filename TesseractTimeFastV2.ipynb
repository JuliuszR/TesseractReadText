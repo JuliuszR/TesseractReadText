{
 "cells": [
  {
   "cell_type": "code",
   "execution_count": null,
   "id": "ec019483",
   "metadata": {
    "scrolled": false
   },
   "outputs": [],
   "source": [
    "from PIL import Image, ImageDraw\n",
    "import pytesseract\n",
    "import argparse\n",
    "import cv2\n",
    "import os\n",
    "import ipywidgets as widgets\n",
    "import numpy as np\n",
    "from ipywidgets import Checkbox\n",
    "import tesserocr\n",
    "from tesserocr import PyTessBaseAPI, PSM\n",
    "from timeit import default_timer as timer\n",
    "from sliders import move_x, move_y, angle, move_alpha, move_beta, checkbox\n",
    "#import matplotlib.pyplot as plt\n",
    "\n",
    "#image_path = \"time.jpg\"\n",
    "#img = cv2.imread(image_path, 1)\n",
    "video_path = \"time10.mp4\"\n",
    "video = cv2.VideoCapture(video_path, cv2.CAP_FFMPEG)\n",
    "_, img = video.read()\n",
    "video.release()"
   ]
  },
  {
   "cell_type": "code",
   "execution_count": null,
   "id": "a32c56f6",
   "metadata": {
    "scrolled": false
   },
   "outputs": [],
   "source": [
    "def rotate_image(angle, img):\n",
    "    image = img.copy()\n",
    "    image_center = tuple(np.array(image.shape[1::-1]) / 2)\n",
    "    rot_mat = cv2.getRotationMatrix2D(image_center, angle, 1.0)\n",
    "    result = cv2.warpAffine(image, rot_mat, image.shape[1::-1], flags=cv2.INTER_LINEAR)\n",
    "    return result"
   ]
  },
  {
   "cell_type": "code",
   "execution_count": null,
   "id": "45a45742",
   "metadata": {},
   "outputs": [],
   "source": [
    "def draw_lines_on_image_and_show(move_x, move_y, angle):\n",
    "    global img\n",
    "    img_to_draw = rotate_image(angle, img)\n",
    "    height,width,_ = img.shape\n",
    "    \n",
    "        #vertical line 1\n",
    "    cv2.line(img_to_draw, (move_x[0], 0), (move_x[0], height), (255,0,0), 20)\n",
    "        #vertical line 2\n",
    "    cv2.line(img_to_draw, (move_x[1], 0), (move_x[1], height), (0,255,0), 20)\n",
    "        #horizontal line 1\n",
    "    cv2.line(img_to_draw, (0, move_y[0]), (width, move_y[0]), (0,0,255), 20)\n",
    "        #horizontal line 1\n",
    "    cv2.line(img_to_draw, (0, move_y[1]), (width, move_y[1]), (50,50,50), 20)\n",
    "    \n",
    "    image_bytes = cv2.imencode('.jpg', img_to_draw)[1].tobytes()\n",
    "    image_widget = widgets.Image(value= image_bytes,\n",
    "                                  format='jpg',\n",
    "                                  width=600,\n",
    "                                  height=400,\n",
    "                                 )\n",
    "    display(image_widget)\n",
    "    \n",
    "out = widgets.interactive_output(draw_lines_on_image_and_show, {'move_x': move_x, 'move_y': move_y, 'angle': angle})\n",
    "widgets_img_rangeY = widgets.HBox([out, move_y])\n",
    "slider_img = widgets.VBox([move_x, angle, widgets_img_rangeY])  \n",
    "display(slider_img)"
   ]
  },
  {
   "cell_type": "code",
   "execution_count": null,
   "id": "d65fef75",
   "metadata": {},
   "outputs": [],
   "source": [
    "img_to_draw = rotate_image(angle.value, img)\n",
    "\n",
    "cropped_image = img_to_draw[move_y.value[1]:move_y.value[0], move_x.value[0]:move_x.value[1]]\n",
    "\n",
    "gray = None\n",
    "\n",
    "def show_cropped(move_alpha, move_beta, checkbox):\n",
    "    global cropped_image, gray\n",
    "    gray = cv2.cvtColor(cropped_image, cv2.COLOR_BGR2GRAY)\n",
    "    gray = cv2.convertScaleAbs(gray, alpha=move_alpha, beta=move_beta)\n",
    "    if checkbox == True:\n",
    "        gray = np.invert(gray)\n",
    "    cropped_bytes = cv2.imencode('.jpg', gray)[1].tobytes()\n",
    "    ajusted_image = widgets.Image(\n",
    "        value=cropped_bytes,\n",
    "        format='jpg',\n",
    "        )\n",
    "    display(ajusted_image)\n",
    "    \n",
    "out3 = widgets.interactive_output(show_cropped, {'move_alpha': move_alpha, 'move_beta': move_beta, 'checkbox': checkbox})\n",
    "\n",
    "widgets_sliders = widgets.VBox([move_alpha, move_beta, checkbox])\n",
    "widgets_outputs = widgets.HBox([out3, widgets_sliders])\n",
    "display(widgets_outputs)"
   ]
  },
  {
   "cell_type": "code",
   "execution_count": null,
   "id": "05b678d7",
   "metadata": {},
   "outputs": [],
   "source": [
    "cropped_bytes = cv2.imencode('.jpg', gray)[1].tobytes()\n",
    "ajusted_image = widgets.Image(\n",
    "        value=cropped_bytes,\n",
    "        format='jpg',\n",
    "        )\n",
    "display(ajusted_image)"
   ]
  },
  {
   "cell_type": "code",
   "execution_count": null,
   "id": "70f11e31",
   "metadata": {},
   "outputs": [],
   "source": [
    "video_path = \"zegar.mp4\"\n",
    "video = cv2.VideoCapture(video_path, cv2.CAP_FFMPEG)\n",
    "#start = timer()\n",
    "try:\n",
    "    while True:\n",
    "        read_return, captured_frame = video.read()\n",
    "        if not read_return:\n",
    "            break\n",
    "        cropped_image = captured_frame[move_y.value[1]:move_y.value[0], move_x.value[0]:move_x.value[1]]\n",
    "        im_pil = Image.fromarray(cropped_image)\n",
    "        print(tesserocr.image_to_text(im_pil))  # print ocr text from image\n",
    "        #undistorted = cv2.undistort(captured_frame, cameraMatrix, distCoeffs, None, cameraMatrix_rescaled)\n",
    "        #image_bytes = cv2.imencode('.jpg', captured_frame)[1].tobytes()\n",
    "        #display_handle.update(Image(data=image_bytes))\n",
    "except KeyboardInterrupt:\n",
    "    pass\n",
    "finally:\n",
    "    video.release()\n",
    "#end = timer()\n",
    "#print(end - start)"
   ]
  },
  {
   "cell_type": "markdown",
   "id": "e6306ebf",
   "metadata": {},
   "source": [
    "![alt text](paint.jpg \"Title\")"
   ]
  },
  {
   "cell_type": "code",
   "execution_count": null,
   "id": "340f5b7f",
   "metadata": {},
   "outputs": [],
   "source": [
    "filename = \"{}.jpg\".format(os.getpid())\n",
    "cv2.imwrite(filename, gray)\n",
    "pytesseract.pytesseract.tesseract_cmd = r'C:\\Program Files\\Tesseract-OCR\\tesseract.exe'\n",
    "text = pytesseract.image_to_string(Image.open(filename))\n",
    "os.remove(filename)\n",
    "print(text)"
   ]
  },
  {
   "cell_type": "code",
   "execution_count": null,
   "id": "729124d2",
   "metadata": {},
   "outputs": [],
   "source": []
  }
 ],
 "metadata": {
  "kernelspec": {
   "display_name": "Python 3 (ipykernel)",
   "language": "python",
   "name": "python3"
  },
  "language_info": {
   "codemirror_mode": {
    "name": "ipython",
    "version": 3
   },
   "file_extension": ".py",
   "mimetype": "text/x-python",
   "name": "python",
   "nbconvert_exporter": "python",
   "pygments_lexer": "ipython3",
   "version": "3.9.7"
  }
 },
 "nbformat": 4,
 "nbformat_minor": 5
}
